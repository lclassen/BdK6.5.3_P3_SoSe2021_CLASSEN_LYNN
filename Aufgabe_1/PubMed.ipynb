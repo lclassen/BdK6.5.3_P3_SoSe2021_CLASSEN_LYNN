{
 "cells": [
  {
   "cell_type": "code",
   "execution_count": 2,
   "metadata": {},
   "outputs": [],
   "source": [
    "import urllib.request"
   ]
  },
  {
   "cell_type": "code",
   "execution_count": 3,
   "metadata": {},
   "outputs": [],
   "source": [
    "import json"
   ]
  },
  {
   "cell_type": "code",
   "execution_count": 4,
   "metadata": {},
   "outputs": [],
   "source": [
    "base_url = \"https://eutils.ncbi.nlm.nih.gov/entrez/eutils/esummary.fcgi?db=pubmed&retmode=json&id=\"\n",
    "pmid = \"31452104\"\n",
    "full_url = base_url + pmid"
   ]
  },
  {
   "cell_type": "code",
   "execution_count": 5,
   "metadata": {},
   "outputs": [],
   "source": [
    "pmid_json_data = urllib.request.urlopen(full_url).read()"
   ]
  },
  {
   "cell_type": "code",
   "execution_count": 6,
   "metadata": {},
   "outputs": [
    {
     "name": "stdout",
     "output_type": "stream",
     "text": [
      "b'{\"header\":{\"type\":\"esummary\",\"version\":\"0.3\"},\"result\":{\"uids\":[\"31452104\"],\"31452104\":{\"uid\":\"31452104\",\"pubdate\":\"2019\",\"epubdate\":\"\",\"source\":\"Methods Mol Biol\",\"authors\":[{\"name\":\"Bitencourt-Ferreira G\",\"authtype\":\"Author\",\"clusterid\":\"\"},{\"name\":\"de Azevedo WF Jr\",\"authtype\":\"Author\",\"clusterid\":\"\"}],\"lastauthor\":\"de Azevedo WF Jr\",\"title\":\"Molegro Virtual Docker for Docking.\",\"sorttitle\":\"molegro virtual docker for docking\",\"volume\":\"2053\",\"issue\":\"\",\"pages\":\"149-167\",\"lang\":[\"eng\"],\"nlmuniqueid\":\"9214969\",\"issn\":\"1064-3745\",\"essn\":\"1940-6029\",\"pubtype\":[\"Journal Article\"],\"recordstatus\":\"PubMed - indexed for MEDLINE\",\"pubstatus\":\"4\",\"articleids\":[{\"idtype\":\"pubmed\",\"idtypen\":1,\"value\":\"31452104\"},{\"idtype\":\"doi\",\"idtypen\":3,\"value\":\"10.1007/978-1-4939-9752-7_10\"},{\"idtype\":\"rid\",\"idtypen\":8,\"value\":\"31452104\"},{\"idtype\":\"eid\",\"idtypen\":8,\"value\":\"31452104\"}],\"history\":[{\"pubstatus\":\"entrez\",\"date\":\"2019/08/28 06:00\"},{\"pubstatus\":\"pubmed\",\"date\":\"2019/08/28 06:00\"},{\"pubstatus\":\"medline\",\"date\":\"2020/06/20 06:00\"}],\"references\":[],\"attributes\":[\"Has Abstract\"],\"pmcrefcount\":4,\"fulljournalname\":\"Methods in molecular biology (Clifton, N.J.)\",\"elocationid\":\"doi: 10.1007/978-1-4939-9752-7_10\",\"doctype\":\"citation\",\"srccontriblist\":[],\"booktitle\":\"\",\"medium\":\"\",\"edition\":\"\",\"publisherlocation\":\"\",\"publishername\":\"\",\"srcdate\":\"\",\"reportnumber\":\"\",\"availablefromurl\":\"\",\"locationlabel\":\"\",\"doccontriblist\":[],\"docdate\":\"\",\"bookname\":\"\",\"chapter\":\"\",\"sortpubdate\":\"2019/01/01 00:00\",\"sortfirstauthor\":\"Bitencourt-Ferreira G\",\"vernaculartitle\":\"\"}}}\\n'\n"
     ]
    }
   ],
   "source": [
    "print(pmid_json_data)"
   ]
  },
  {
   "cell_type": "code",
   "execution_count": 7,
   "metadata": {},
   "outputs": [],
   "source": [
    "pmids = [\"31452104\",\n",
    "        \"31437182\",\n",
    "        \"31455877\",\n",
    "        \"31535994\"]"
   ]
  },
  {
   "cell_type": "code",
   "execution_count": 8,
   "metadata": {},
   "outputs": [],
   "source": [
    "pmid_data = json.loads(pmid_json_data)"
   ]
  },
  {
   "cell_type": "code",
   "execution_count": 9,
   "metadata": {},
   "outputs": [
    {
     "data": {
      "text/plain": [
       "dict"
      ]
     },
     "execution_count": 9,
     "metadata": {},
     "output_type": "execute_result"
    }
   ],
   "source": [
    "type(pmid_data)"
   ]
  },
  {
   "cell_type": "code",
   "execution_count": 10,
   "metadata": {},
   "outputs": [
    {
     "name": "stdout",
     "output_type": "stream",
     "text": [
      "{'header': {'type': 'esummary', 'version': '0.3'}, 'result': {'uids': ['31452104'], '31452104': {'uid': '31452104', 'pubdate': '2019', 'epubdate': '', 'source': 'Methods Mol Biol', 'authors': [{'name': 'Bitencourt-Ferreira G', 'authtype': 'Author', 'clusterid': ''}, {'name': 'de Azevedo WF Jr', 'authtype': 'Author', 'clusterid': ''}], 'lastauthor': 'de Azevedo WF Jr', 'title': 'Molegro Virtual Docker for Docking.', 'sorttitle': 'molegro virtual docker for docking', 'volume': '2053', 'issue': '', 'pages': '149-167', 'lang': ['eng'], 'nlmuniqueid': '9214969', 'issn': '1064-3745', 'essn': '1940-6029', 'pubtype': ['Journal Article'], 'recordstatus': 'PubMed - indexed for MEDLINE', 'pubstatus': '4', 'articleids': [{'idtype': 'pubmed', 'idtypen': 1, 'value': '31452104'}, {'idtype': 'doi', 'idtypen': 3, 'value': '10.1007/978-1-4939-9752-7_10'}, {'idtype': 'rid', 'idtypen': 8, 'value': '31452104'}, {'idtype': 'eid', 'idtypen': 8, 'value': '31452104'}], 'history': [{'pubstatus': 'entrez', 'date': '2019/08/28 06:00'}, {'pubstatus': 'pubmed', 'date': '2019/08/28 06:00'}, {'pubstatus': 'medline', 'date': '2020/06/20 06:00'}], 'references': [], 'attributes': ['Has Abstract'], 'pmcrefcount': 4, 'fulljournalname': 'Methods in molecular biology (Clifton, N.J.)', 'elocationid': 'doi: 10.1007/978-1-4939-9752-7_10', 'doctype': 'citation', 'srccontriblist': [], 'booktitle': '', 'medium': '', 'edition': '', 'publisherlocation': '', 'publishername': '', 'srcdate': '', 'reportnumber': '', 'availablefromurl': '', 'locationlabel': '', 'doccontriblist': [], 'docdate': '', 'bookname': '', 'chapter': '', 'sortpubdate': '2019/01/01 00:00', 'sortfirstauthor': 'Bitencourt-Ferreira G', 'vernaculartitle': ''}}}\n"
     ]
    }
   ],
   "source": [
    "print(pmid_data)"
   ]
  },
  {
   "cell_type": "code",
   "execution_count": 11,
   "metadata": {},
   "outputs": [
    {
     "data": {
      "text/plain": [
       "dict_keys(['header', 'result'])"
      ]
     },
     "execution_count": 11,
     "metadata": {},
     "output_type": "execute_result"
    }
   ],
   "source": [
    "pmid_data.keys()"
   ]
  },
  {
   "cell_type": "code",
   "execution_count": 12,
   "metadata": {},
   "outputs": [
    {
     "data": {
      "text/plain": [
       "{'type': 'esummary', 'version': '0.3'}"
      ]
     },
     "execution_count": 12,
     "metadata": {},
     "output_type": "execute_result"
    }
   ],
   "source": [
    "pmid_data[\"header\"]"
   ]
  },
  {
   "cell_type": "code",
   "execution_count": 13,
   "metadata": {},
   "outputs": [
    {
     "data": {
      "text/plain": [
       "{'uids': ['31452104'],\n",
       " '31452104': {'uid': '31452104',\n",
       "  'pubdate': '2019',\n",
       "  'epubdate': '',\n",
       "  'source': 'Methods Mol Biol',\n",
       "  'authors': [{'name': 'Bitencourt-Ferreira G',\n",
       "    'authtype': 'Author',\n",
       "    'clusterid': ''},\n",
       "   {'name': 'de Azevedo WF Jr', 'authtype': 'Author', 'clusterid': ''}],\n",
       "  'lastauthor': 'de Azevedo WF Jr',\n",
       "  'title': 'Molegro Virtual Docker for Docking.',\n",
       "  'sorttitle': 'molegro virtual docker for docking',\n",
       "  'volume': '2053',\n",
       "  'issue': '',\n",
       "  'pages': '149-167',\n",
       "  'lang': ['eng'],\n",
       "  'nlmuniqueid': '9214969',\n",
       "  'issn': '1064-3745',\n",
       "  'essn': '1940-6029',\n",
       "  'pubtype': ['Journal Article'],\n",
       "  'recordstatus': 'PubMed - indexed for MEDLINE',\n",
       "  'pubstatus': '4',\n",
       "  'articleids': [{'idtype': 'pubmed', 'idtypen': 1, 'value': '31452104'},\n",
       "   {'idtype': 'doi', 'idtypen': 3, 'value': '10.1007/978-1-4939-9752-7_10'},\n",
       "   {'idtype': 'rid', 'idtypen': 8, 'value': '31452104'},\n",
       "   {'idtype': 'eid', 'idtypen': 8, 'value': '31452104'}],\n",
       "  'history': [{'pubstatus': 'entrez', 'date': '2019/08/28 06:00'},\n",
       "   {'pubstatus': 'pubmed', 'date': '2019/08/28 06:00'},\n",
       "   {'pubstatus': 'medline', 'date': '2020/06/20 06:00'}],\n",
       "  'references': [],\n",
       "  'attributes': ['Has Abstract'],\n",
       "  'pmcrefcount': 4,\n",
       "  'fulljournalname': 'Methods in molecular biology (Clifton, N.J.)',\n",
       "  'elocationid': 'doi: 10.1007/978-1-4939-9752-7_10',\n",
       "  'doctype': 'citation',\n",
       "  'srccontriblist': [],\n",
       "  'booktitle': '',\n",
       "  'medium': '',\n",
       "  'edition': '',\n",
       "  'publisherlocation': '',\n",
       "  'publishername': '',\n",
       "  'srcdate': '',\n",
       "  'reportnumber': '',\n",
       "  'availablefromurl': '',\n",
       "  'locationlabel': '',\n",
       "  'doccontriblist': [],\n",
       "  'docdate': '',\n",
       "  'bookname': '',\n",
       "  'chapter': '',\n",
       "  'sortpubdate': '2019/01/01 00:00',\n",
       "  'sortfirstauthor': 'Bitencourt-Ferreira G',\n",
       "  'vernaculartitle': ''}}"
      ]
     },
     "execution_count": 13,
     "metadata": {},
     "output_type": "execute_result"
    }
   ],
   "source": [
    "pmid_data[\"result\"]"
   ]
  },
  {
   "cell_type": "code",
   "execution_count": 16,
   "metadata": {},
   "outputs": [
    {
     "data": {
      "text/plain": [
       "['31452104']"
      ]
     },
     "execution_count": 16,
     "metadata": {},
     "output_type": "execute_result"
    }
   ],
   "source": [
    "pmid_data[\"result\"][\"uids\"]"
   ]
  },
  {
   "cell_type": "code",
   "execution_count": 19,
   "metadata": {},
   "outputs": [
    {
     "data": {
      "text/plain": [
       "'2019'"
      ]
     },
     "execution_count": 19,
     "metadata": {},
     "output_type": "execute_result"
    }
   ],
   "source": [
    "pmid_data[\"result\"][\"31452104\"][\"pubdate\"]"
   ]
  },
  {
   "cell_type": "code",
   "execution_count": 20,
   "metadata": {},
   "outputs": [
    {
     "data": {
      "text/plain": [
       "'Molegro Virtual Docker for Docking.'"
      ]
     },
     "execution_count": 20,
     "metadata": {},
     "output_type": "execute_result"
    }
   ],
   "source": [
    "pmid_data[\"result\"][\"31452104\"][\"title\"]"
   ]
  },
  {
   "cell_type": "code",
   "execution_count": 21,
   "metadata": {},
   "outputs": [
    {
     "name": "stdout",
     "output_type": "stream",
     "text": [
      "Molegro Virtual Docker for Docking.2019\n",
      "TreeCluster: Clustering biological sequences using phylogenetic trees.2019\n",
      "Principles of open source bioinstrumentation applied to the poseidon syringe pump system.2019 Aug 27\n",
      "Aggregation Signature for Small Object Tracking.2019 Sep 16\n"
     ]
    }
   ],
   "source": [
    "for pmid in pmids:\n",
    "    full_url = base_url + pmid\n",
    "    pmid_json_data = urllib.request.urlopen(full_url).read()\n",
    "    pmid_data = json.loads(pmid_json_data)\n",
    "    print(pmid_data[\"result\"][pmid][\"title\"] + pmid_data[\"result\"][pmid][\"pubdate\"])"
   ]
  },
  {
   "cell_type": "code",
   "execution_count": 22,
   "metadata": {},
   "outputs": [
    {
     "name": "stdout",
     "output_type": "stream",
     "text": [
      "Molegro Virtual Docker for Docking.2019\n",
      "----------\n",
      "TreeCluster: Clustering biological sequences using phylogenetic trees.2019\n",
      "----------\n",
      "Principles of open source bioinstrumentation applied to the poseidon syringe pump system.2019 Aug 27\n",
      "----------\n",
      "Aggregation Signature for Small Object Tracking.2019 Sep 16\n",
      "----------\n"
     ]
    }
   ],
   "source": [
    "for pmid in pmids:\n",
    "    full_url = base_url + pmid\n",
    "    pmid_json_data = urllib.request.urlopen(full_url).read()\n",
    "    pmid_data = json.loads(pmid_json_data)\n",
    "    print(pmid_data[\"result\"][pmid][\"title\"] + pmid_data[\"result\"][pmid][\"pubdate\"])\n",
    "    print(\"----------\")"
   ]
  },
  {
   "cell_type": "raw",
   "metadata": {},
   "source": [
    "Trotz mehreren Versuchen konnte die Ergebnisausgabe nicht in f-Strings formatiert werden. Nach dem erhaltenen Git-Issue konnte dies jedoch geändert werden."
   ]
  },
  {
   "cell_type": "code",
   "execution_count": 27,
   "metadata": {},
   "outputs": [
    {
     "name": "stdout",
     "output_type": "stream",
     "text": [
      "Molegro Virtual Docker for Docking. and 2019\n",
      "--------\n",
      "TreeCluster: Clustering biological sequences using phylogenetic trees. and 2019\n",
      "--------\n",
      "Principles of open source bioinstrumentation applied to the poseidon syringe pump system. and 2019 Aug 27\n",
      "--------\n",
      "Aggregation Signature for Small Object Tracking. and 2019 Sep 16\n",
      "--------\n"
     ]
    }
   ],
   "source": [
    "for pmid in pmids:\n",
    "    full_url = base_url + pmid\n",
    "    pmid_json_data = urllib.request.urlopen(full_url).read()\n",
    "    pmid_data = json.loads(pmid_json_data)\n",
    "    title = pmid_data[\"result\"][pmid][\"title\"]\n",
    "    date = pmid_data[\"result\"][pmid][\"pubdate\"]\n",
    "    print(f\"{title} and {date}\")\n",
    "    print(\"--------\")"
   ]
  }
 ],
 "metadata": {
  "kernelspec": {
   "display_name": "Python 3",
   "language": "python",
   "name": "python3"
  },
  "language_info": {
   "codemirror_mode": {
    "name": "ipython",
    "version": 3
   },
   "file_extension": ".py",
   "mimetype": "text/x-python",
   "name": "python",
   "nbconvert_exporter": "python",
   "pygments_lexer": "ipython3",
   "version": "3.8.5"
  }
 },
 "nbformat": 4,
 "nbformat_minor": 4
}
