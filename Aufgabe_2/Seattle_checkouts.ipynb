{
 "cells": [
  {
   "cell_type": "markdown",
   "metadata": {},
   "source": [
    "# Beschreibung des Datensets"
   ]
  },
  {
   "cell_type": "markdown",
   "metadata": {},
   "source": [
    "Für die Bearbeitung der Aufgabe wurde sich für das Datenset Checkouts by title von der Seattle Public Library (SPL) entschieden. Dieses Datenset umfasst die monatlichen Daten der physischen und digitalen Ausleihen der Seattle Public Library, geordnet nach Titeln. Die erfassten Daten beginnen bei den Ausleihen, die im April 2005 stattfanden und erstrecken bis zum jeweils vergangenen Monat. Das Datenset wird monatlich aktualisiert und kann somit auch für sehr aktuelle Analysen genutzt werden, da die Daten des vergangenen Monates um den Zeitraum des 6. Tages des Folgemonats veröffentlicht werden. Zudem umfasst das Datenset nur die erste Ausleihe eines Mediums und berücksichtigt die Verlängerung der Ausleihdauer nicht als zweite Ausleihe. Das Datenset umfasst die Art des ausgeliehenen Mediums (digital oder physisch), das genutzte Ausleihtool (Overdrive, Horizon etc.), um welchen Medientypen es sich handelt (Buch, Magazin, Song etc.), Ausleihjahr und -monat, die Gesamtausleihen des Mediums während des Monats und die Informationen zum Medium selbst (Titel, Urheber, Thema, Herausgeber, Erscheinungsjahr)."
   ]
  },
  {
   "cell_type": "markdown",
   "metadata": {},
   "source": [
    "# Fragestellungen"
   ]
  },
  {
   "cell_type": "markdown",
   "metadata": {},
   "source": [
    "Es wurde sich für dieses Datenset entschieden, um die Ausleihen der Seattle Public Library zu analysieren und einzelne Aspekte zu visualisieren.\n",
    "\n",
    "Fragestellungen:\n",
    "-\tWie sieht die Verteilung der Ausleihen von digitalen und physischen Medien in der SPL aus?\n",
    "\n",
    "Als erstes soll die Verteilung der Ausleihen von digitalen und physischen Medien betrachtet werden. Vor dem Hintergrund, dass in deutschen Bibliotheken digitale Ausleihen nur einen Bruchteil der Gesamtausleihen ausmachen, soll diese Aussage nun für die Ausleihen der SPL überprüft werden.\n",
    "-\tWie hoch ist die durchschnittliche Ausleihanzahl für einen Titel in dem gewählten Monat?\n",
    "\n",
    "An zweiter Stelle soll die durchschnittliche Anzahl der Ausleihen für ein Medium bestimmt werden. Um das Ergebnis besser interpretieren zu können, wird auch der Median der Ausleihanzahl bestimmt, da dieser von Ausreißern nach oben oder unten unbeeinflusst ist.\n",
    "-\tWie sieht die Häufigkeitsverteilung der ausgeliehenen Medientypen aus?\n",
    "\n",
    "An letzter Stelle soll die Häufigkeitsverteilung der ausgeliehenen Medientypen visualisiert werden. Anschließend an die erste Hypothese soll überprüft werden, welche physischen bzw. digitalen Medienarten am meisten ausgeliehen wurden. Da bei der Vorschau des Datensets bereits einige Einträge betrachtet werden konnte, wird davon ausgegangen, dass der physische Medientyp Buch die Verteilung dominieren wird. Diese Hypothese soll nun bestätigt bzw. widerlegt werden.\n",
    "\n",
    "Dies sind die Ausgangsfragestellungen, die ggf. noch erweitert werden.\n"
   ]
  },
  {
   "cell_type": "markdown",
   "metadata": {},
   "source": [
    "# Datenanalyse"
   ]
  },
  {
   "cell_type": "markdown",
   "metadata": {},
   "source": [
    "Importieren der Packages Seaborn, Pandas und matplotlib"
   ]
  },
  {
   "cell_type": "code",
   "execution_count": 4,
   "metadata": {},
   "outputs": [],
   "source": [
    "import pandas as pd\n",
    "import seaborn as sns\n",
    "import matplotlib.pyplot as plt"
   ]
  },
  {
   "cell_type": "markdown",
   "metadata": {},
   "source": [
    "Importieren des benötigten Datensets Checkouts by Title der Seattle Public Library"
   ]
  },
  {
   "cell_type": "code",
   "execution_count": 5,
   "metadata": {},
   "outputs": [],
   "source": [
    "url = \"https://data.seattle.gov/resource/tmmm-ytt6.csv\"\n",
    "spl = pd.read_csv(url)"
   ]
  },
  {
   "cell_type": "code",
   "execution_count": 6,
   "metadata": {},
   "outputs": [
    {
     "data": {
      "text/html": [
       "<div>\n",
       "<style scoped>\n",
       "    .dataframe tbody tr th:only-of-type {\n",
       "        vertical-align: middle;\n",
       "    }\n",
       "\n",
       "    .dataframe tbody tr th {\n",
       "        vertical-align: top;\n",
       "    }\n",
       "\n",
       "    .dataframe thead th {\n",
       "        text-align: right;\n",
       "    }\n",
       "</style>\n",
       "<table border=\"1\" class=\"dataframe\">\n",
       "  <thead>\n",
       "    <tr style=\"text-align: right;\">\n",
       "      <th></th>\n",
       "      <th>usageclass</th>\n",
       "      <th>checkouttype</th>\n",
       "      <th>materialtype</th>\n",
       "      <th>checkoutyear</th>\n",
       "      <th>checkoutmonth</th>\n",
       "      <th>checkouts</th>\n",
       "      <th>title</th>\n",
       "      <th>creator</th>\n",
       "      <th>subjects</th>\n",
       "      <th>publisher</th>\n",
       "      <th>publicationyear</th>\n",
       "    </tr>\n",
       "  </thead>\n",
       "  <tbody>\n",
       "    <tr>\n",
       "      <th>0</th>\n",
       "      <td>Digital</td>\n",
       "      <td>OverDrive</td>\n",
       "      <td>AUDIOBOOK</td>\n",
       "      <td>2015</td>\n",
       "      <td>8</td>\n",
       "      <td>2</td>\n",
       "      <td>Kissing Christmas Goodbye: Agatha Raisin Myste...</td>\n",
       "      <td>M.C. Beaton</td>\n",
       "      <td>Fiction, Humor (Fiction), Mystery</td>\n",
       "      <td>Books on Tape</td>\n",
       "      <td>2009</td>\n",
       "    </tr>\n",
       "    <tr>\n",
       "      <th>1</th>\n",
       "      <td>Physical</td>\n",
       "      <td>Horizon</td>\n",
       "      <td>SOUNDDISC</td>\n",
       "      <td>2015</td>\n",
       "      <td>8</td>\n",
       "      <td>4</td>\n",
       "      <td>Run-DMC [sound recording] / Run-DMC.</td>\n",
       "      <td>Run-D.M.C. (Musical group)</td>\n",
       "      <td>Rap Music, Popular music 1981 1990</td>\n",
       "      <td>Arista/Legacy,</td>\n",
       "      <td>p2005.</td>\n",
       "    </tr>\n",
       "    <tr>\n",
       "      <th>2</th>\n",
       "      <td>Digital</td>\n",
       "      <td>Freegal</td>\n",
       "      <td>SONG</td>\n",
       "      <td>2015</td>\n",
       "      <td>8</td>\n",
       "      <td>1</td>\n",
       "      <td>Roots Reggae Music (feat. Don Carlos)</td>\n",
       "      <td>Rebelution</td>\n",
       "      <td>NaN</td>\n",
       "      <td>NaN</td>\n",
       "      <td>NaN</td>\n",
       "    </tr>\n",
       "    <tr>\n",
       "      <th>3</th>\n",
       "      <td>Physical</td>\n",
       "      <td>Horizon</td>\n",
       "      <td>SOUNDDISC</td>\n",
       "      <td>2015</td>\n",
       "      <td>8</td>\n",
       "      <td>6</td>\n",
       "      <td>Treasure Island [sound recording] / Robert Lou...</td>\n",
       "      <td>Stevenson, Robert Louis, 1850-1894</td>\n",
       "      <td>Buried treasure Fiction, Pirates Juvenile fict...</td>\n",
       "      <td>Random House/Listening Library,</td>\n",
       "      <td>p2007.</td>\n",
       "    </tr>\n",
       "    <tr>\n",
       "      <th>4</th>\n",
       "      <td>Physical</td>\n",
       "      <td>Horizon</td>\n",
       "      <td>BOOK</td>\n",
       "      <td>2015</td>\n",
       "      <td>8</td>\n",
       "      <td>1</td>\n",
       "      <td>Making sense of wine tasting : your essential ...</td>\n",
       "      <td>Young, Alan</td>\n",
       "      <td>Wine tasting</td>\n",
       "      <td>The Wine Appreciation Guild,</td>\n",
       "      <td>c2010.</td>\n",
       "    </tr>\n",
       "    <tr>\n",
       "      <th>...</th>\n",
       "      <td>...</td>\n",
       "      <td>...</td>\n",
       "      <td>...</td>\n",
       "      <td>...</td>\n",
       "      <td>...</td>\n",
       "      <td>...</td>\n",
       "      <td>...</td>\n",
       "      <td>...</td>\n",
       "      <td>...</td>\n",
       "      <td>...</td>\n",
       "      <td>...</td>\n",
       "    </tr>\n",
       "    <tr>\n",
       "      <th>995</th>\n",
       "      <td>Physical</td>\n",
       "      <td>Horizon</td>\n",
       "      <td>BOOK</td>\n",
       "      <td>2015</td>\n",
       "      <td>8</td>\n",
       "      <td>1</td>\n",
       "      <td>Boomsday : a novel / Christopher Buckley.</td>\n",
       "      <td>Buckley, Christopher, 1952-</td>\n",
       "      <td>Baby boom generation Fiction, Humorous fiction</td>\n",
       "      <td>Warner Twelve,</td>\n",
       "      <td>2007.</td>\n",
       "    </tr>\n",
       "    <tr>\n",
       "      <th>996</th>\n",
       "      <td>Physical</td>\n",
       "      <td>Horizon</td>\n",
       "      <td>BOOK</td>\n",
       "      <td>2015</td>\n",
       "      <td>8</td>\n",
       "      <td>1</td>\n",
       "      <td>Wisdom wide and deep : a practical handbook fo...</td>\n",
       "      <td>Catherine, Shaila</td>\n",
       "      <td>Meditation Buddhism</td>\n",
       "      <td>Wisdom Publications,</td>\n",
       "      <td>c2011.</td>\n",
       "    </tr>\n",
       "    <tr>\n",
       "      <th>997</th>\n",
       "      <td>Digital</td>\n",
       "      <td>OverDrive</td>\n",
       "      <td>EBOOK</td>\n",
       "      <td>2015</td>\n",
       "      <td>8</td>\n",
       "      <td>1</td>\n",
       "      <td>Violet &amp; Claire</td>\n",
       "      <td>Francesca Lia Block</td>\n",
       "      <td>Young Adult Fiction</td>\n",
       "      <td>HarperCollins Publishers Inc.</td>\n",
       "      <td>2008</td>\n",
       "    </tr>\n",
       "    <tr>\n",
       "      <th>998</th>\n",
       "      <td>Digital</td>\n",
       "      <td>Freegal</td>\n",
       "      <td>SONG</td>\n",
       "      <td>2015</td>\n",
       "      <td>8</td>\n",
       "      <td>1</td>\n",
       "      <td>La Recien Casada</td>\n",
       "      <td>Amparo De Las Jilguerillas Y Mercedes Castro</td>\n",
       "      <td>NaN</td>\n",
       "      <td>NaN</td>\n",
       "      <td>NaN</td>\n",
       "    </tr>\n",
       "    <tr>\n",
       "      <th>999</th>\n",
       "      <td>Physical</td>\n",
       "      <td>Horizon</td>\n",
       "      <td>BOOK</td>\n",
       "      <td>2015</td>\n",
       "      <td>8</td>\n",
       "      <td>6</td>\n",
       "      <td>Cars : rushing! honking! zooming! / by Patrici...</td>\n",
       "      <td>Hubbell, Patricia</td>\n",
       "      <td>Automobiles Juvenile fiction, Stories in rhyme</td>\n",
       "      <td>Marshall Cavendish Children,</td>\n",
       "      <td>2006.</td>\n",
       "    </tr>\n",
       "  </tbody>\n",
       "</table>\n",
       "<p>1000 rows × 11 columns</p>\n",
       "</div>"
      ],
      "text/plain": [
       "    usageclass checkouttype materialtype  checkoutyear  checkoutmonth  \\\n",
       "0      Digital    OverDrive    AUDIOBOOK          2015              8   \n",
       "1     Physical      Horizon    SOUNDDISC          2015              8   \n",
       "2      Digital      Freegal         SONG          2015              8   \n",
       "3     Physical      Horizon    SOUNDDISC          2015              8   \n",
       "4     Physical      Horizon         BOOK          2015              8   \n",
       "..         ...          ...          ...           ...            ...   \n",
       "995   Physical      Horizon         BOOK          2015              8   \n",
       "996   Physical      Horizon         BOOK          2015              8   \n",
       "997    Digital    OverDrive        EBOOK          2015              8   \n",
       "998    Digital      Freegal         SONG          2015              8   \n",
       "999   Physical      Horizon         BOOK          2015              8   \n",
       "\n",
       "     checkouts                                              title  \\\n",
       "0            2  Kissing Christmas Goodbye: Agatha Raisin Myste...   \n",
       "1            4               Run-DMC [sound recording] / Run-DMC.   \n",
       "2            1              Roots Reggae Music (feat. Don Carlos)   \n",
       "3            6  Treasure Island [sound recording] / Robert Lou...   \n",
       "4            1  Making sense of wine tasting : your essential ...   \n",
       "..         ...                                                ...   \n",
       "995          1          Boomsday : a novel / Christopher Buckley.   \n",
       "996          1  Wisdom wide and deep : a practical handbook fo...   \n",
       "997          1                                    Violet & Claire   \n",
       "998          1                                   La Recien Casada   \n",
       "999          6  Cars : rushing! honking! zooming! / by Patrici...   \n",
       "\n",
       "                                          creator  \\\n",
       "0                                     M.C. Beaton   \n",
       "1                      Run-D.M.C. (Musical group)   \n",
       "2                                      Rebelution   \n",
       "3              Stevenson, Robert Louis, 1850-1894   \n",
       "4                                     Young, Alan   \n",
       "..                                            ...   \n",
       "995                   Buckley, Christopher, 1952-   \n",
       "996                             Catherine, Shaila   \n",
       "997                           Francesca Lia Block   \n",
       "998  Amparo De Las Jilguerillas Y Mercedes Castro   \n",
       "999                             Hubbell, Patricia   \n",
       "\n",
       "                                              subjects  \\\n",
       "0                    Fiction, Humor (Fiction), Mystery   \n",
       "1                   Rap Music, Popular music 1981 1990   \n",
       "2                                                  NaN   \n",
       "3    Buried treasure Fiction, Pirates Juvenile fict...   \n",
       "4                                         Wine tasting   \n",
       "..                                                 ...   \n",
       "995     Baby boom generation Fiction, Humorous fiction   \n",
       "996                                Meditation Buddhism   \n",
       "997                                Young Adult Fiction   \n",
       "998                                                NaN   \n",
       "999     Automobiles Juvenile fiction, Stories in rhyme   \n",
       "\n",
       "                           publisher publicationyear  \n",
       "0                      Books on Tape            2009  \n",
       "1                     Arista/Legacy,          p2005.  \n",
       "2                                NaN             NaN  \n",
       "3    Random House/Listening Library,          p2007.  \n",
       "4       The Wine Appreciation Guild,          c2010.  \n",
       "..                               ...             ...  \n",
       "995                   Warner Twelve,           2007.  \n",
       "996             Wisdom Publications,          c2011.  \n",
       "997    HarperCollins Publishers Inc.            2008  \n",
       "998                              NaN             NaN  \n",
       "999     Marshall Cavendish Children,           2006.  \n",
       "\n",
       "[1000 rows x 11 columns]"
      ]
     },
     "execution_count": 6,
     "metadata": {},
     "output_type": "execute_result"
    }
   ],
   "source": [
    "spl"
   ]
  },
  {
   "cell_type": "markdown",
   "metadata": {},
   "source": [
    "Nach dem erfolgreichen Importieren der Daten, wird nun die einzelne Spalte usageclass betrachtet, die Auskunft darüber liefert, ob es sich um eine physische oder digitale Ausleihe handelt."
   ]
  },
  {
   "cell_type": "code",
   "execution_count": 7,
   "metadata": {},
   "outputs": [
    {
     "data": {
      "text/plain": [
       "0       Digital\n",
       "1      Physical\n",
       "2       Digital\n",
       "3      Physical\n",
       "4      Physical\n",
       "         ...   \n",
       "995    Physical\n",
       "996    Physical\n",
       "997     Digital\n",
       "998     Digital\n",
       "999    Physical\n",
       "Name: usageclass, Length: 1000, dtype: object"
      ]
     },
     "execution_count": 7,
     "metadata": {},
     "output_type": "execute_result"
    }
   ],
   "source": [
    "spl[\"usageclass\"]"
   ]
  },
  {
   "cell_type": "code",
   "execution_count": 8,
   "metadata": {},
   "outputs": [
    {
     "data": {
      "text/plain": [
       "pandas.core.series.Series"
      ]
     },
     "execution_count": 8,
     "metadata": {},
     "output_type": "execute_result"
    }
   ],
   "source": [
    "type(spl.usageclass)"
   ]
  },
  {
   "cell_type": "markdown",
   "metadata": {},
   "source": [
    "Beschreibung der Spalte usageclass mit dem Attribut describe"
   ]
  },
  {
   "cell_type": "code",
   "execution_count": 9,
   "metadata": {},
   "outputs": [
    {
     "data": {
      "text/plain": [
       "count         1000\n",
       "unique           2\n",
       "top       Physical\n",
       "freq           671\n",
       "Name: usageclass, dtype: object"
      ]
     },
     "execution_count": 9,
     "metadata": {},
     "output_type": "execute_result"
    }
   ],
   "source": [
    "spl.usageclass.describe()"
   ]
  },
  {
   "cell_type": "markdown",
   "metadata": {},
   "source": [
    "Darstellung der Spaltenauswertung mit einem Histogramm"
   ]
  },
  {
   "cell_type": "code",
   "execution_count": 10,
   "metadata": {},
   "outputs": [
    {
     "data": {
      "text/plain": [
       "<AxesSubplot:>"
      ]
     },
     "execution_count": 10,
     "metadata": {},
     "output_type": "execute_result"
    },
    {
     "data": {
      "image/png": "[encoded data removed]",
      "text/plain": [
       "<Figure size 432x288 with 1 Axes>"
      ]
     },
     "metadata": {
      "needs_background": "light"
     },
     "output_type": "display_data"
    }
   ],
   "source": [
    "spl.usageclass.hist()"
   ]
  },
  {
   "cell_type": "markdown",
   "metadata": {},
   "source": [
    "Diese Fragestellung konnte schneller als erwartet beantwortet werden, da describe die gesuchten Zahlen direkt ausgegeben hat. Wie erwartet wurde, dominieren die physischen Medien bei der Ausleihe mit 671 von 1000 Ausleihen. Die digitalen Ausleihen sind jedoch häufiger vertreten als zu Beginn der Aufgabe erwartet."
   ]
  },
  {
   "cell_type": "markdown",
   "metadata": {},
   "source": [
    "Berechnung der durchschnittlichen Ausleihanzahl"
   ]
  },
  {
   "cell_type": "code",
   "execution_count": 11,
   "metadata": {},
   "outputs": [
    {
     "data": {
      "text/plain": [
       "3.502"
      ]
     },
     "execution_count": 11,
     "metadata": {},
     "output_type": "execute_result"
    }
   ],
   "source": [
    "spl.checkouts.mean()"
   ]
  },
  {
   "cell_type": "markdown",
   "metadata": {},
   "source": [
    "Über das Attribut konnte die durchschnittliche Ausleihanzahl berechnet werden, die bei aufgerundet 4 Ausleihe pro Medium liegt. In diesem Zuge könnte die Bestimmung des Medians von Interesse sein, da dieser nicht von Ausreißern beeinflusst ist."
   ]
  },
  {
   "cell_type": "code",
   "execution_count": 12,
   "metadata": {},
   "outputs": [
    {
     "data": {
      "text/plain": [
       "2.0"
      ]
     },
     "execution_count": 12,
     "metadata": {},
     "output_type": "execute_result"
    }
   ],
   "source": [
    "spl.checkouts.median()"
   ]
  },
  {
   "cell_type": "markdown",
   "metadata": {},
   "source": [
    "Der Median liegt nur bei 2 Ausleihen, demnach wurde die Hälfte der Medien mehr als zweimal ausgeliehen und die andere Hälfte weniger als zweimal ausgeliehen. Da der Median kleiner ist als der Durchschnitt, kann davon ausgegangen werden, es einige Medien gibt, die sehr häufig ausgeliehen wurden und so den Durchschnitt heben. "
   ]
  },
  {
   "cell_type": "markdown",
   "metadata": {},
   "source": [
    "Beschreibung des Spalteninhalts von materialtype, um die Häufigkeiten der Medientypen darzustellen"
   ]
  },
  {
   "cell_type": "code",
   "execution_count": 13,
   "metadata": {},
   "outputs": [
    {
     "data": {
      "text/plain": [
       "count     1000\n",
       "unique      14\n",
       "top       BOOK\n",
       "freq       507\n",
       "Name: materialtype, dtype: object"
      ]
     },
     "execution_count": 13,
     "metadata": {},
     "output_type": "execute_result"
    }
   ],
   "source": [
    "spl.materialtype.describe()"
   ]
  },
  {
   "cell_type": "markdown",
   "metadata": {},
   "source": [
    "Wie bereits bei der Formulierung der Fragestellung erwartet, dominiert der Medientyp Buch die Ausleihen. In den folgenden Schritten soll nun die Häufigkeitsverteilung alle Medientypen mit Hilfe des Seaborn Packages und dem darin enthaltenen countplot ansprechend visualisiert werden"
   ]
  },
  {
   "cell_type": "code",
   "execution_count": 16,
   "metadata": {},
   "outputs": [
    {
     "name": "stderr",
     "output_type": "stream",
     "text": [
      "C:\\anaconda\\lib\\site-packages\\seaborn\\_decorators.py:36: FutureWarning: Pass the following variable as a keyword arg: x. From version 0.12, the only valid positional argument will be `data`, and passing other arguments without an explicit keyword will result in an error or misinterpretation.\n",
      "  warnings.warn(\n"
     ]
    },
    {
     "data": {
      "text/plain": [
       "<AxesSubplot:xlabel='materialtype', ylabel='count'>"
      ]
     },
     "execution_count": 16,
     "metadata": {},
     "output_type": "execute_result"
    },
    {
     "data": {
      "image/png": "[encoded data removed]",
      "text/plain": [
       "<Figure size 432x288 with 1 Axes>"
      ]
     },
     "metadata": {
      "needs_background": "light"
     },
     "output_type": "display_data"
    }
   ],
   "source": [
    "sns.countplot(spl.materialtype)"
   ]
  },
  {
   "cell_type": "markdown",
   "metadata": {},
   "source": [
    "Da dieses Darstellung nicht ansprechend ist, wird im nächsten Schritt die Grafik von der x-Achse auf die y-Achse verlagert werden, sowie eine einheitliche Farbgebung implementiert werden"
   ]
  },
  {
   "cell_type": "code",
   "execution_count": 20,
   "metadata": {},
   "outputs": [
    {
     "data": {
      "image/png": "[encoded data removed]",
      "text/plain": [
       "<Figure size 432x288 with 1 Axes>"
      ]
     },
     "metadata": {
      "needs_background": "light"
     },
     "output_type": "display_data"
    }
   ],
   "source": [
    "count_plot = sns.countplot(y= spl.materialtype, color=\"red\")"
   ]
  },
  {
   "cell_type": "markdown",
   "metadata": {},
   "source": [
    "Diese Grafik kann als ansprechend und zufriedenstellend angenommen werden, und bestätigt die zu Beginn formulierte Hypothese. Der Medientyp Buch dominiert die Ausleihen, an nächster Stelle folgt dann mit deutlichem Abstand der Medientyp Ebook. Am häufigsten werden demnach Bücher, sowohl in digitaler als auch physischer Form, ausgeliehen. Die Medientypen Hörbuch, Sound- und Videodisc, sowie Songs werden machen rund alle den gleichen Anteil der Ausleihen aus. Filme, Musik und TV machen mit jeweils sehr geringen Ausleihen nur einen sehr kleinen Anteil der Gesamtausleihen aus.  "
   ]
  },
  {
   "cell_type": "markdown",
   "metadata": {},
   "source": [
    "# Diskussion"
   ]
  },
  {
   "cell_type": "markdown",
   "metadata": {},
   "source": [
    "Insgesamt konnten die zu Beginn formulierten Fragestellungen und Hypothesen alle zufriedenstellend beantwortet, bestätigt oder visualisiert werden. \n",
    "Wie bereits vermutet machen physische Ausleihen den Großteil der Gesamtausleihen aus, wobei der Anteil an digitalen Ausleihen höher lag als erwartet. Zudem konnte durch die Berechnung und Vergleich von Durchschnitt und Median herausgestellt werden, dass es einige wenige Medien gibt, die überproportional oft ausgeliehen wurden und so den Durchschnitt künstlich heben. Auch bei der Häufigkeitsverteilung der ausgeliehenen Medientypen konnte die Ausgangshypothese bestätigt werden, da das physische Buch hier mit deutlichem Abstand vorne lag. Auf Grund der Tatsache, dass das digitale Buch, zwar deutlich hinter dem physischen Buch, aber immer noch weit vor den restlichen Medientypen liegt, lässt die den Rückschluss zu, dass die Nutzer einer Bibliothek in den meisten Fällen noch zum Standard-Medienangebot „Buch“ greifen, sich das jedoch auch langsam auf den digitalen Bereich ausweitet. \n"
   ]
  },
  {
   "cell_type": "code",
   "execution_count": null,
   "metadata": {},
   "outputs": [],
   "source": []
  }
 ],
 "metadata": {
  "kernelspec": {
   "display_name": "Python 3",
   "language": "python",
   "name": "python3"
  },
  "language_info": {
   "codemirror_mode": {
    "name": "ipython",
    "version": 3
   },
   "file_extension": ".py",
   "mimetype": "text/x-python",
   "name": "python",
   "nbconvert_exporter": "python",
   "pygments_lexer": "ipython3",
   "version": "3.8.5"
  }
 },
 "nbformat": 4,
 "nbformat_minor": 4
}
