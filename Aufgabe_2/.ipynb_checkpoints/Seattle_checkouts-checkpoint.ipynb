{
 "cells": [
  {
   "cell_type": "markdown",
   "metadata": {},
   "source": [
    "# Beschreibung des Datensets"
   ]
  },
  {
   "cell_type": "markdown",
   "metadata": {},
   "source": [
    "Für die Bearbeitung der Aufgabe wurde sich für das Datenset Checkouts by title von der Seattle Public Library (SPL) entschieden. Dieses Datenset umfasst die monatlichen Daten der physischen und digitalen Ausleihen der Seattle Public Library, geordnet nach Titeln. Die erfassten Daten beginnen bei den Ausleihen, die im April 2005 stattfanden und erstrecken bis zum jeweils vergangenen Monat. Das Datenset wird monatlich aktualisiert und kann somit auch für sehr aktuelle Analysen genutzt werden, da die Daten des vergangenen Monates um den Zeitraum des 6. Tages des Folgemonats veröffentlicht werden. Zudem umfasst das Datenset nur die erste Ausleihe eines Mediums und berücksichtigt die Verlängerung der Ausleihdauer nicht als zweite Ausleihe. Das Datenset umfasst die Art des ausgeliehenen Mediums (digital oder physisch), das genutzte Ausleihtool (Overdrive, Horizon etc.), um welchen Medientypen es sich handelt (Buch, Magazin, Song etc.), Ausleihjahr und -monat, die Gesamtausleihen des Mediums während des Monats und die Informationen zum Medium selbst (Titel, Urheber, Thema, Herausgeber, Erscheinungsjahr)."
   ]
  },
  {
   "cell_type": "markdown",
   "metadata": {},
   "source": [
    "# Fragestellungen"
   ]
  },
  {
   "cell_type": "markdown",
   "metadata": {},
   "source": [
    "Es wurde sich für dieses Datenset entschieden, um die Ausleihen der Seattle Public Library zu analysieren und einzelne Aspekte zu visualisieren.\n",
    "\n",
    "Fragestellungen:\n",
    "-\tWie sieht die Verteilung der Ausleihen von digitalen und physischen Medien in der SPL aus?\n",
    "\n",
    "Als erstes soll die Verteilung der Ausleihen von digitalen und physischen Medien betrachtet werden. Vor dem Hintergrund, dass in deutschen Bibliotheken digitale Ausleihen nur einen Bruchteil der Gesamtausleihen ausmachen, soll diese Aussage nun für die Ausleihen der SPL überprüft werden.\n",
    "-\tWie hoch ist die durchschnittliche Ausleihanzahl für einen Titel in dem gewählten Monat?\n",
    "\n",
    "An zweiter Stelle soll die durchschnittliche Anzahl der Ausleihen für ein Medium bestimmt werden. Um das Ergebnis besser interpretieren zu können, wird auch der Median der Ausleihanzahl bestimmt, da dieser von Ausreißern nach oben oder unten unbeeinflusst ist.\n",
    "-\tWie sieht die Häufigkeitsverteilung der ausgeliehenen Medientypen aus?\n",
    "\n",
    "An letzter Stelle soll die Häufigkeitsverteilung der ausgeliehenen Medientypen visualisiert werden. Anschließend an die erste Hypothese soll überprüft werden, welche physischen bzw. digitalen Medienarten am meisten ausgeliehen wurden. Da bei der Vorschau des Datensets bereits einige Einträge betrachtet werden konnte, wird davon ausgegangen, dass der physische Medientyp Buch die Verteilung dominieren wird. Diese Hypothese soll nun bestätigt bzw. widerlegt werden.\n",
    "\n",
    "Dies sind die Ausgangsfragestellungen, die ggf. noch erweitert werden.\n"
   ]
  },
  {
   "cell_type": "markdown",
   "metadata": {},
   "source": [
    "# Datenanalyse"
   ]
  },
  {
   "cell_type": "markdown",
   "metadata": {},
   "source": [
    "Importieren der Packages Seaborn, Pandas und matplotlib"
   ]
  },
  {
   "cell_type": "code",
   "execution_count": 9,
   "metadata": {},
   "outputs": [],
   "source": [
    "import pandas as pd\n",
    "import seaborn as sns\n",
    "import matplotlib.pyplot as plt"
   ]
  },
  {
   "cell_type": "markdown",
   "metadata": {},
   "source": [
    "Importieren des benötigten Datensets Checkouts by Title der Seattle Public Library. Auf Grund des Umfang des Datensets wurde sich, ohne eine bestimmte Begründung, für die Checkouts im August 2015 entschieden."
   ]
  },
  {
   "cell_type": "code",
   "execution_count": 10,
   "metadata": {},
   "outputs": [],
   "source": [
    "url = \"https://data.seattle.gov/resource/tmmm-ytt6.csv?checkoutyear=2015&checkoutmonth=8\"\n",
    "spl = pd.read_csv(url)"
   ]
  },
  {
   "cell_type": "code",
   "execution_count": 11,
   "metadata": {},
   "outputs": [
    {
     "data": {
      "text/html": [
       "<div>\n",
       "<style scoped>\n",
       "    .dataframe tbody tr th:only-of-type {\n",
       "        vertical-align: middle;\n",
       "    }\n",
       "\n",
       "    .dataframe tbody tr th {\n",
       "        vertical-align: top;\n",
       "    }\n",
       "\n",
       "    .dataframe thead th {\n",
       "        text-align: right;\n",
       "    }\n",
       "</style>\n",
       "<table border=\"1\" class=\"dataframe\">\n",
       "  <thead>\n",
       "    <tr style=\"text-align: right;\">\n",
       "      <th></th>\n",
       "      <th>usageclass</th>\n",
       "      <th>checkouttype</th>\n",
       "      <th>materialtype</th>\n",
       "      <th>checkoutyear</th>\n",
       "      <th>checkoutmonth</th>\n",
       "      <th>checkouts</th>\n",
       "      <th>title</th>\n",
       "      <th>creator</th>\n",
       "      <th>subjects</th>\n",
       "      <th>publisher</th>\n",
       "      <th>publicationyear</th>\n",
       "    </tr>\n",
       "  </thead>\n",
       "  <tbody>\n",
       "    <tr>\n",
       "      <th>0</th>\n",
       "      <td>Digital</td>\n",
       "      <td>Freegal</td>\n",
       "      <td>SONG</td>\n",
       "      <td>2015</td>\n",
       "      <td>8</td>\n",
       "      <td>1</td>\n",
       "      <td>Voices Carry</td>\n",
       "      <td>'Til Tuesday</td>\n",
       "      <td>NaN</td>\n",
       "      <td>NaN</td>\n",
       "      <td>NaN</td>\n",
       "    </tr>\n",
       "    <tr>\n",
       "      <th>1</th>\n",
       "      <td>Digital</td>\n",
       "      <td>Freegal</td>\n",
       "      <td>SONG</td>\n",
       "      <td>2015</td>\n",
       "      <td>8</td>\n",
       "      <td>1</td>\n",
       "      <td>Free</td>\n",
       "      <td>Train</td>\n",
       "      <td>NaN</td>\n",
       "      <td>NaN</td>\n",
       "      <td>NaN</td>\n",
       "    </tr>\n",
       "    <tr>\n",
       "      <th>2</th>\n",
       "      <td>Digital</td>\n",
       "      <td>Freegal</td>\n",
       "      <td>SONG</td>\n",
       "      <td>2015</td>\n",
       "      <td>8</td>\n",
       "      <td>1</td>\n",
       "      <td>Free Fallin'</td>\n",
       "      <td>John Mayer</td>\n",
       "      <td>NaN</td>\n",
       "      <td>NaN</td>\n",
       "      <td>NaN</td>\n",
       "    </tr>\n",
       "    <tr>\n",
       "      <th>3</th>\n",
       "      <td>Digital</td>\n",
       "      <td>Freegal</td>\n",
       "      <td>SONG</td>\n",
       "      <td>2015</td>\n",
       "      <td>8</td>\n",
       "      <td>1</td>\n",
       "      <td>Nevermind</td>\n",
       "      <td>Foster The People</td>\n",
       "      <td>NaN</td>\n",
       "      <td>NaN</td>\n",
       "      <td>NaN</td>\n",
       "    </tr>\n",
       "    <tr>\n",
       "      <th>4</th>\n",
       "      <td>Digital</td>\n",
       "      <td>Freegal</td>\n",
       "      <td>SONG</td>\n",
       "      <td>2015</td>\n",
       "      <td>8</td>\n",
       "      <td>5</td>\n",
       "      <td>Drunk in Love</td>\n",
       "      <td>Beyonce</td>\n",
       "      <td>NaN</td>\n",
       "      <td>NaN</td>\n",
       "      <td>NaN</td>\n",
       "    </tr>\n",
       "    <tr>\n",
       "      <th>...</th>\n",
       "      <td>...</td>\n",
       "      <td>...</td>\n",
       "      <td>...</td>\n",
       "      <td>...</td>\n",
       "      <td>...</td>\n",
       "      <td>...</td>\n",
       "      <td>...</td>\n",
       "      <td>...</td>\n",
       "      <td>...</td>\n",
       "      <td>...</td>\n",
       "      <td>...</td>\n",
       "    </tr>\n",
       "    <tr>\n",
       "      <th>995</th>\n",
       "      <td>Physical</td>\n",
       "      <td>Horizon</td>\n",
       "      <td>VIDEODISC</td>\n",
       "      <td>2015</td>\n",
       "      <td>8</td>\n",
       "      <td>3</td>\n",
       "      <td>Wordworld. Happy holidays WordFriends! [videor...</td>\n",
       "      <td>NaN</td>\n",
       "      <td>Christmas Fiction, Holidays Juvenile fiction, ...</td>\n",
       "      <td>NCircle Entertainment,</td>\n",
       "      <td>2009.</td>\n",
       "    </tr>\n",
       "    <tr>\n",
       "      <th>996</th>\n",
       "      <td>Digital</td>\n",
       "      <td>Freegal</td>\n",
       "      <td>SONG</td>\n",
       "      <td>2015</td>\n",
       "      <td>8</td>\n",
       "      <td>3</td>\n",
       "      <td>Only Love Can Break Your Heart</td>\n",
       "      <td>Natalie Imbruglia</td>\n",
       "      <td>NaN</td>\n",
       "      <td>NaN</td>\n",
       "      <td>NaN</td>\n",
       "    </tr>\n",
       "    <tr>\n",
       "      <th>997</th>\n",
       "      <td>Physical</td>\n",
       "      <td>Horizon</td>\n",
       "      <td>SOUNDDISC</td>\n",
       "      <td>2015</td>\n",
       "      <td>8</td>\n",
       "      <td>6</td>\n",
       "      <td>Southsiders [sound recording] / Atmosphere.</td>\n",
       "      <td>Atmosphere (Rap group)</td>\n",
       "      <td>Rap Music, Popular music 2011 2020</td>\n",
       "      <td>Rhymesayers Entertainment,</td>\n",
       "      <td>[2014]</td>\n",
       "    </tr>\n",
       "    <tr>\n",
       "      <th>998</th>\n",
       "      <td>Physical</td>\n",
       "      <td>Horizon</td>\n",
       "      <td>BOOK</td>\n",
       "      <td>2015</td>\n",
       "      <td>8</td>\n",
       "      <td>1</td>\n",
       "      <td>To kill a tiger : a memoir of Korea / Jid Lee.</td>\n",
       "      <td>Lee, Jid, 1955-</td>\n",
       "      <td>Lee Jid 1955, Korea South Biography, Korea Sou...</td>\n",
       "      <td>Overlook Press,</td>\n",
       "      <td>2010.</td>\n",
       "    </tr>\n",
       "    <tr>\n",
       "      <th>999</th>\n",
       "      <td>Physical</td>\n",
       "      <td>Horizon</td>\n",
       "      <td>BOOK</td>\n",
       "      <td>2015</td>\n",
       "      <td>8</td>\n",
       "      <td>1</td>\n",
       "      <td>Fiona loves the night / by Patricia MacLachlan...</td>\n",
       "      <td>MacLachlan, Patricia</td>\n",
       "      <td>Night Juvenile fiction, Nature stories</td>\n",
       "      <td>Joanna Cotler Books,</td>\n",
       "      <td>2007.</td>\n",
       "    </tr>\n",
       "  </tbody>\n",
       "</table>\n",
       "<p>1000 rows × 11 columns</p>\n",
       "</div>"
      ],
      "text/plain": [
       "    usageclass checkouttype materialtype  checkoutyear  checkoutmonth  \\\n",
       "0      Digital      Freegal         SONG          2015              8   \n",
       "1      Digital      Freegal         SONG          2015              8   \n",
       "2      Digital      Freegal         SONG          2015              8   \n",
       "3      Digital      Freegal         SONG          2015              8   \n",
       "4      Digital      Freegal         SONG          2015              8   \n",
       "..         ...          ...          ...           ...            ...   \n",
       "995   Physical      Horizon    VIDEODISC          2015              8   \n",
       "996    Digital      Freegal         SONG          2015              8   \n",
       "997   Physical      Horizon    SOUNDDISC          2015              8   \n",
       "998   Physical      Horizon         BOOK          2015              8   \n",
       "999   Physical      Horizon         BOOK          2015              8   \n",
       "\n",
       "     checkouts                                              title  \\\n",
       "0            1                                       Voices Carry   \n",
       "1            1                                               Free   \n",
       "2            1                                       Free Fallin'   \n",
       "3            1                                          Nevermind   \n",
       "4            5                                      Drunk in Love   \n",
       "..         ...                                                ...   \n",
       "995          3  Wordworld. Happy holidays WordFriends! [videor...   \n",
       "996          3                     Only Love Can Break Your Heart   \n",
       "997          6        Southsiders [sound recording] / Atmosphere.   \n",
       "998          1     To kill a tiger : a memoir of Korea / Jid Lee.   \n",
       "999          1  Fiona loves the night / by Patricia MacLachlan...   \n",
       "\n",
       "                    creator  \\\n",
       "0              'Til Tuesday   \n",
       "1                     Train   \n",
       "2                John Mayer   \n",
       "3         Foster The People   \n",
       "4                   Beyonce   \n",
       "..                      ...   \n",
       "995                     NaN   \n",
       "996       Natalie Imbruglia   \n",
       "997  Atmosphere (Rap group)   \n",
       "998         Lee, Jid, 1955-   \n",
       "999    MacLachlan, Patricia   \n",
       "\n",
       "                                              subjects  \\\n",
       "0                                                  NaN   \n",
       "1                                                  NaN   \n",
       "2                                                  NaN   \n",
       "3                                                  NaN   \n",
       "4                                                  NaN   \n",
       "..                                                 ...   \n",
       "995  Christmas Fiction, Holidays Juvenile fiction, ...   \n",
       "996                                                NaN   \n",
       "997                 Rap Music, Popular music 2011 2020   \n",
       "998  Lee Jid 1955, Korea South Biography, Korea Sou...   \n",
       "999             Night Juvenile fiction, Nature stories   \n",
       "\n",
       "                      publisher publicationyear  \n",
       "0                           NaN             NaN  \n",
       "1                           NaN             NaN  \n",
       "2                           NaN             NaN  \n",
       "3                           NaN             NaN  \n",
       "4                           NaN             NaN  \n",
       "..                          ...             ...  \n",
       "995      NCircle Entertainment,           2009.  \n",
       "996                         NaN             NaN  \n",
       "997  Rhymesayers Entertainment,          [2014]  \n",
       "998             Overlook Press,           2010.  \n",
       "999        Joanna Cotler Books,           2007.  \n",
       "\n",
       "[1000 rows x 11 columns]"
      ]
     },
     "execution_count": 11,
     "metadata": {},
     "output_type": "execute_result"
    }
   ],
   "source": [
    "spl"
   ]
  },
  {
   "cell_type": "markdown",
   "metadata": {},
   "source": [
    "Nach dem erfolgreichen Importieren der Daten, wird nun die einzelne Spalte usageclass betrachtet, die Auskunft darüber liefert, ob es sich um eine physische oder digitale Ausleihe handelt."
   ]
  },
  {
   "cell_type": "code",
   "execution_count": 12,
   "metadata": {},
   "outputs": [
    {
     "data": {
      "text/plain": [
       "0       Digital\n",
       "1       Digital\n",
       "2       Digital\n",
       "3       Digital\n",
       "4       Digital\n",
       "         ...   \n",
       "995    Physical\n",
       "996     Digital\n",
       "997    Physical\n",
       "998    Physical\n",
       "999    Physical\n",
       "Name: usageclass, Length: 1000, dtype: object"
      ]
     },
     "execution_count": 12,
     "metadata": {},
     "output_type": "execute_result"
    }
   ],
   "source": [
    "spl[\"usageclass\"]"
   ]
  },
  {
   "cell_type": "code",
   "execution_count": 13,
   "metadata": {},
   "outputs": [
    {
     "data": {
      "text/plain": [
       "pandas.core.series.Series"
      ]
     },
     "execution_count": 13,
     "metadata": {},
     "output_type": "execute_result"
    }
   ],
   "source": [
    "type(spl.usageclass)"
   ]
  },
  {
   "cell_type": "markdown",
   "metadata": {},
   "source": [
    "Beschreibung der Spalte usageclass mit dem Attribut describe"
   ]
  },
  {
   "cell_type": "code",
   "execution_count": 14,
   "metadata": {},
   "outputs": [
    {
     "data": {
      "text/plain": [
       "count         1000\n",
       "unique           2\n",
       "top       Physical\n",
       "freq           564\n",
       "Name: usageclass, dtype: object"
      ]
     },
     "execution_count": 14,
     "metadata": {},
     "output_type": "execute_result"
    }
   ],
   "source": [
    "spl.usageclass.describe()"
   ]
  },
  {
   "cell_type": "markdown",
   "metadata": {},
   "source": [
    "Darstellung der Spaltenauswertung mit einem Histogramm"
   ]
  },
  {
   "cell_type": "code",
   "execution_count": 15,
   "metadata": {},
   "outputs": [
    {
     "data": {
      "text/plain": [
       "<AxesSubplot:>"
      ]
     },
     "execution_count": 15,
     "metadata": {},
     "output_type": "execute_result"
    },
    {
     "data": {
      "image/png": "[encoded data removed]",
      "text/plain": [
       "<Figure size 432x288 with 1 Axes>"
      ]
     },
     "metadata": {
      "needs_background": "light"
     },
     "output_type": "display_data"
    }
   ],
   "source": [
    "spl.usageclass.hist()"
   ]
  },
  {
   "cell_type": "markdown",
   "metadata": {},
   "source": [
    "Diese Fragestellung konnte schneller als erwartet beantwortet werden, da describe die gesuchten Zahlen direkt ausgegeben hat. Wie erwartet wurde, dominieren die physischen Medien bei der Ausleihe mit 564 von 1000 Ausleihen. Die digitalen Ausleihen sind jedoch häufiger vertreten als zu Beginn der Aufgabe erwartet."
   ]
  },
  {
   "cell_type": "markdown",
   "metadata": {},
   "source": [
    "Berechnung der durchschnittlichen Ausleihanzahl"
   ]
  },
  {
   "cell_type": "code",
   "execution_count": 16,
   "metadata": {},
   "outputs": [
    {
     "data": {
      "text/plain": [
       "2.878"
      ]
     },
     "execution_count": 16,
     "metadata": {},
     "output_type": "execute_result"
    }
   ],
   "source": [
    "spl.checkouts.mean()"
   ]
  },
  {
   "cell_type": "markdown",
   "metadata": {},
   "source": [
    "Über das Attribut konnte die durchschnittliche Ausleihanzahl berechnet werden, die bei aufgerundet 3 Ausleihe pro Medium liegt. In diesem Zuge könnte die Bestimmung des Medians von Interesse sein, da dieser nicht von Ausreißern beeinflusst ist."
   ]
  },
  {
   "cell_type": "code",
   "execution_count": 17,
   "metadata": {},
   "outputs": [
    {
     "data": {
      "text/plain": [
       "1.0"
      ]
     },
     "execution_count": 17,
     "metadata": {},
     "output_type": "execute_result"
    }
   ],
   "source": [
    "spl.checkouts.median()"
   ]
  },
  {
   "cell_type": "markdown",
   "metadata": {},
   "source": [
    "Der Median liegt nur bei einer Ausleihe, demnach wurde die Hälfte der Medien mehr als einmal ausgeliehen und die andere Hälfte weniger als einmal ausgeliehen. Da der Median kleiner ist als der Durchschnitt, kann davon ausgegangen werden, es einige Medien gibt, die sehr häufig ausgeliehen wurden und so den Durchschnitt heben. "
   ]
  },
  {
   "cell_type": "markdown",
   "metadata": {},
   "source": [
    "Beschreibung des Spalteninhalts von materialtype, um die Häufigkeiten der Medientypen darzustellen"
   ]
  },
  {
   "cell_type": "code",
   "execution_count": 18,
   "metadata": {},
   "outputs": [
    {
     "data": {
      "text/plain": [
       "count     1000\n",
       "unique      15\n",
       "top       BOOK\n",
       "freq       420\n",
       "Name: materialtype, dtype: object"
      ]
     },
     "execution_count": 18,
     "metadata": {},
     "output_type": "execute_result"
    }
   ],
   "source": [
    "spl.materialtype.describe()"
   ]
  },
  {
   "cell_type": "markdown",
   "metadata": {},
   "source": [
    "Wie bereits bei der Formulierung der Fragestellung erwartet, dominiert der Medientyp Buch die Ausleihen. In den folgenden Schritten soll nun die Häufigkeitsverteilung aller Medientypen mit Hilfe des Seaborn Packages und dem darin enthaltenen countplot ansprechend visualisiert werden"
   ]
  },
  {
   "cell_type": "code",
   "execution_count": 19,
   "metadata": {},
   "outputs": [
    {
     "name": "stderr",
     "output_type": "stream",
     "text": [
      "C:\\anaconda\\lib\\site-packages\\seaborn\\_decorators.py:36: FutureWarning: Pass the following variable as a keyword arg: x. From version 0.12, the only valid positional argument will be `data`, and passing other arguments without an explicit keyword will result in an error or misinterpretation.\n",
      "  warnings.warn(\n"
     ]
    },
    {
     "data": {
      "text/plain": [
       "<AxesSubplot:xlabel='materialtype', ylabel='count'>"
      ]
     },
     "execution_count": 19,
     "metadata": {},
     "output_type": "execute_result"
    },
    {
     "data": {
      "image/png": "[encoded data removed]",
      "text/plain": [
       "<Figure size 432x288 with 1 Axes>"
      ]
     },
     "metadata": {
      "needs_background": "light"
     },
     "output_type": "display_data"
    }
   ],
   "source": [
    "sns.countplot(spl.materialtype)"
   ]
  },
  {
   "cell_type": "markdown",
   "metadata": {},
   "source": [
    "Da dieses Darstellung nicht ansprechend ist, wird im nächsten Schritt die Grafik von der x-Achse auf die y-Achse verlagert werden, sowie eine einheitliche Farbgebung implementiert werden"
   ]
  },
  {
   "cell_type": "code",
   "execution_count": 20,
   "metadata": {},
   "outputs": [
    {
     "data": {
      "image/png": "[encoded data removed]",
      "text/plain": [
       "<Figure size 432x288 with 1 Axes>"
      ]
     },
     "metadata": {
      "needs_background": "light"
     },
     "output_type": "display_data"
    }
   ],
   "source": [
    "count_plot = sns.countplot(y= spl.materialtype, color=\"red\")"
   ]
  },
  {
   "cell_type": "markdown",
   "metadata": {},
   "source": [
    "Diese Grafik kann als ansprechend und zufriedenstellend angenommen werden, und bestätigt die zu Beginn formulierte Hypothese. Der Medientyp Buch dominiert die Ausleihen, an nächster Stelle folgt dann mit deutlichem Abstand der Medientyp Ebook. Am häufigsten werden demnach Bücher, sowohl in digitaler als auch physischer Form, ausgeliehen. Die Medientypen Sounddisc und Song werden am zweithäufigsten ausgeliehen, Videodisc und Audiobook stehen gleichauf an dritter Stelle. Filme, Magazine, Musik und TV machen mit jeweils sehr geringen Ausleihen nur einen sehr kleinen Anteil der Gesamtausleihen aus.  "
   ]
  },
  {
   "cell_type": "markdown",
   "metadata": {},
   "source": [
    "# Diskussion"
   ]
  },
  {
   "cell_type": "markdown",
   "metadata": {},
   "source": [
    "Insgesamt konnten die zu Beginn formulierten Fragestellungen und Hypothesen alle zufriedenstellend beantwortet, bestätigt oder visualisiert werden. \n",
    "Wie bereits vermutet machen physische Ausleihen den Großteil der Gesamtausleihen aus, wobei der Anteil an digitalen Ausleihen höher lag als erwartet. Zudem konnte durch die Berechnung und Vergleich von Durchschnitt und Median herausgestellt werden, dass es einige wenige Medien gibt, die überproportional oft ausgeliehen wurden und so den Durchschnitt künstlich heben. Auch bei der Häufigkeitsverteilung der ausgeliehenen Medientypen konnte die Ausgangshypothese bestätigt werden, da das physische Buch hier mit deutlichem Abstand vorne lag. Auf Grund der Tatsache, dass das digitale Buch, zwar deutlich hinter dem physischen Buch, aber immer noch weit vor den restlichen Medientypen liegt, lässt die den Rückschluss zu, dass die Nutzer einer Bibliothek in den meisten Fällen noch zum Standard-Medienangebot „Buch“ greifen, sich das jedoch auch langsam auf den digitalen Bereich ausweitet. \n"
   ]
  }
 ],
 "metadata": {
  "kernelspec": {
   "display_name": "Python 3",
   "language": "python",
   "name": "python3"
  },
  "language_info": {
   "codemirror_mode": {
    "name": "ipython",
    "version": 3
   },
   "file_extension": ".py",
   "mimetype": "text/x-python",
   "name": "python",
   "nbconvert_exporter": "python",
   "pygments_lexer": "ipython3",
   "version": "3.8.5"
  }
 },
 "nbformat": 4,
 "nbformat_minor": 4
}
